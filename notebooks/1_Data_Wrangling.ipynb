{
 "cells": [
  {
   "cell_type": "markdown",
   "metadata": {
    "Collapsed": "false"
   },
   "source": [
    "# Data Wrangling\n",
    "***\n",
    "Trip data for Bay Wheels is publicly available per month. We download it from the repo and clean the data where needed."
   ]
  },
  {
   "cell_type": "code",
   "execution_count": 1,
   "metadata": {
    "Collapsed": "false"
   },
   "outputs": [],
   "source": [
    "import numpy as np\n",
    "import pandas as pd\n",
    "\n",
    "import requests\n",
    "import zipfile\n",
    "import os\n",
    "import io"
   ]
  },
  {
   "cell_type": "markdown",
   "metadata": {
    "Collapsed": "false"
   },
   "source": [
    "## 1. Gather Data\n",
    "***\n",
    "The data can be found [here](https://s3.amazonaws.com/baywheels-data/index.html)."
   ]
  },
  {
   "cell_type": "code",
   "execution_count": 2,
   "metadata": {
    "Collapsed": "false"
   },
   "outputs": [],
   "source": [
    "# make a data-folder\n",
    "data_folder = 'data'\n",
    "if not os.path.exists(data_folder):\n",
    "    os.makedirs(data_folder)"
   ]
  },
  {
   "cell_type": "code",
   "execution_count": 3,
   "metadata": {
    "Collapsed": "false"
   },
   "outputs": [],
   "source": [
    "# target url to download from\n",
    "url = 'https://s3.amazonaws.com/baywheels-data/202001-baywheels-tripdata.csv.zip'\n",
    "\n",
    "# define output_locations\n",
    "output_file = url.split('/')[-1][:-4] \n",
    "\n",
    "# download\n",
    "r = requests.get(url, stream=True)\n",
    "with zipfile.ZipFile(io.BytesIO(r.content)) as myzip:\n",
    "    myzip.extract(output_file, data_folder)"
   ]
  },
  {
   "cell_type": "code",
   "execution_count": 4,
   "metadata": {
    "Collapsed": "false"
   },
   "outputs": [
    {
     "name": "stdout",
     "output_type": "stream",
     "text": [
      "(295854, 14)\n"
     ]
    },
    {
     "name": "stderr",
     "output_type": "stream",
     "text": [
      "/Users/gijsvanpamelen/projects/bay_wheels_trips/lib/python3.7/site-packages/IPython/core/interactiveshell.py:3072: DtypeWarning: Columns (13) have mixed types.Specify dtype option on import or set low_memory=False.\n",
      "  interactivity=interactivity, compiler=compiler, result=result)\n"
     ]
    },
    {
     "data": {
      "text/html": [
       "<div>\n",
       "<style scoped>\n",
       "    .dataframe tbody tr th:only-of-type {\n",
       "        vertical-align: middle;\n",
       "    }\n",
       "\n",
       "    .dataframe tbody tr th {\n",
       "        vertical-align: top;\n",
       "    }\n",
       "\n",
       "    .dataframe thead th {\n",
       "        text-align: right;\n",
       "    }\n",
       "</style>\n",
       "<table border=\"1\" class=\"dataframe\">\n",
       "  <thead>\n",
       "    <tr style=\"text-align: right;\">\n",
       "      <th></th>\n",
       "      <th>duration_sec</th>\n",
       "      <th>start_time</th>\n",
       "      <th>end_time</th>\n",
       "      <th>start_station_id</th>\n",
       "      <th>start_station_name</th>\n",
       "      <th>start_station_latitude</th>\n",
       "      <th>start_station_longitude</th>\n",
       "      <th>end_station_id</th>\n",
       "      <th>end_station_name</th>\n",
       "      <th>end_station_latitude</th>\n",
       "      <th>end_station_longitude</th>\n",
       "      <th>bike_id</th>\n",
       "      <th>user_type</th>\n",
       "      <th>rental_access_method</th>\n",
       "    </tr>\n",
       "  </thead>\n",
       "  <tbody>\n",
       "    <tr>\n",
       "      <th>0</th>\n",
       "      <td>83118</td>\n",
       "      <td>2020-01-31 15:23:47.7330</td>\n",
       "      <td>2020-02-01 14:29:06.2630</td>\n",
       "      <td>400.0</td>\n",
       "      <td>Buchanan St at North Point St</td>\n",
       "      <td>37.804272</td>\n",
       "      <td>-122.433537</td>\n",
       "      <td>400.0</td>\n",
       "      <td>Buchanan St at North Point St</td>\n",
       "      <td>37.804272</td>\n",
       "      <td>-122.433537</td>\n",
       "      <td>13052</td>\n",
       "      <td>Customer</td>\n",
       "      <td>NaN</td>\n",
       "    </tr>\n",
       "    <tr>\n",
       "      <th>1</th>\n",
       "      <td>68239</td>\n",
       "      <td>2020-01-31 15:40:31.6160</td>\n",
       "      <td>2020-02-01 10:37:51.0000</td>\n",
       "      <td>99.0</td>\n",
       "      <td>Folsom St at 15th St</td>\n",
       "      <td>37.767037</td>\n",
       "      <td>-122.415443</td>\n",
       "      <td>99.0</td>\n",
       "      <td>Folsom St at 15th St</td>\n",
       "      <td>37.767037</td>\n",
       "      <td>-122.415443</td>\n",
       "      <td>12235</td>\n",
       "      <td>Subscriber</td>\n",
       "      <td>NaN</td>\n",
       "    </tr>\n",
       "    <tr>\n",
       "      <th>2</th>\n",
       "      <td>55407</td>\n",
       "      <td>2020-01-31 17:48:16.6350</td>\n",
       "      <td>2020-02-01 09:11:44.3170</td>\n",
       "      <td>197.0</td>\n",
       "      <td>El Embarcadero at Grand Ave</td>\n",
       "      <td>37.808848</td>\n",
       "      <td>-122.249680</td>\n",
       "      <td>197.0</td>\n",
       "      <td>El Embarcadero at Grand Ave</td>\n",
       "      <td>37.808848</td>\n",
       "      <td>-122.249680</td>\n",
       "      <td>12822</td>\n",
       "      <td>Customer</td>\n",
       "      <td>NaN</td>\n",
       "    </tr>\n",
       "    <tr>\n",
       "      <th>3</th>\n",
       "      <td>54929</td>\n",
       "      <td>2020-01-31 17:53:03.4130</td>\n",
       "      <td>2020-02-01 09:08:32.6340</td>\n",
       "      <td>197.0</td>\n",
       "      <td>El Embarcadero at Grand Ave</td>\n",
       "      <td>37.808848</td>\n",
       "      <td>-122.249680</td>\n",
       "      <td>197.0</td>\n",
       "      <td>El Embarcadero at Grand Ave</td>\n",
       "      <td>37.808848</td>\n",
       "      <td>-122.249680</td>\n",
       "      <td>11705</td>\n",
       "      <td>Customer</td>\n",
       "      <td>NaN</td>\n",
       "    </tr>\n",
       "    <tr>\n",
       "      <th>4</th>\n",
       "      <td>55700</td>\n",
       "      <td>2020-01-31 17:12:33.4600</td>\n",
       "      <td>2020-02-01 08:40:53.6460</td>\n",
       "      <td>12.0</td>\n",
       "      <td>Pier 1/2 at The Embarcadero</td>\n",
       "      <td>37.796389</td>\n",
       "      <td>-122.394586</td>\n",
       "      <td>371.0</td>\n",
       "      <td>Lombard St at Columbus Ave</td>\n",
       "      <td>37.802746</td>\n",
       "      <td>-122.413579</td>\n",
       "      <td>3673</td>\n",
       "      <td>Customer</td>\n",
       "      <td>NaN</td>\n",
       "    </tr>\n",
       "  </tbody>\n",
       "</table>\n",
       "</div>"
      ],
      "text/plain": [
       "   duration_sec                start_time                  end_time  \\\n",
       "0         83118  2020-01-31 15:23:47.7330  2020-02-01 14:29:06.2630   \n",
       "1         68239  2020-01-31 15:40:31.6160  2020-02-01 10:37:51.0000   \n",
       "2         55407  2020-01-31 17:48:16.6350  2020-02-01 09:11:44.3170   \n",
       "3         54929  2020-01-31 17:53:03.4130  2020-02-01 09:08:32.6340   \n",
       "4         55700  2020-01-31 17:12:33.4600  2020-02-01 08:40:53.6460   \n",
       "\n",
       "   start_station_id             start_station_name  start_station_latitude  \\\n",
       "0             400.0  Buchanan St at North Point St               37.804272   \n",
       "1              99.0           Folsom St at 15th St               37.767037   \n",
       "2             197.0    El Embarcadero at Grand Ave               37.808848   \n",
       "3             197.0    El Embarcadero at Grand Ave               37.808848   \n",
       "4              12.0    Pier 1/2 at The Embarcadero               37.796389   \n",
       "\n",
       "   start_station_longitude  end_station_id               end_station_name  \\\n",
       "0              -122.433537           400.0  Buchanan St at North Point St   \n",
       "1              -122.415443            99.0           Folsom St at 15th St   \n",
       "2              -122.249680           197.0    El Embarcadero at Grand Ave   \n",
       "3              -122.249680           197.0    El Embarcadero at Grand Ave   \n",
       "4              -122.394586           371.0     Lombard St at Columbus Ave   \n",
       "\n",
       "   end_station_latitude  end_station_longitude  bike_id   user_type  \\\n",
       "0             37.804272            -122.433537    13052    Customer   \n",
       "1             37.767037            -122.415443    12235  Subscriber   \n",
       "2             37.808848            -122.249680    12822    Customer   \n",
       "3             37.808848            -122.249680    11705    Customer   \n",
       "4             37.802746            -122.413579     3673    Customer   \n",
       "\n",
       "  rental_access_method  \n",
       "0                  NaN  \n",
       "1                  NaN  \n",
       "2                  NaN  \n",
       "3                  NaN  \n",
       "4                  NaN  "
      ]
     },
     "execution_count": 4,
     "metadata": {},
     "output_type": "execute_result"
    }
   ],
   "source": [
    "# load\n",
    "df = pd.read_csv(data_folder + '/' + output_file)\n",
    "print(df.shape)\n",
    "df.head()"
   ]
  },
  {
   "cell_type": "markdown",
   "metadata": {
    "Collapsed": "false"
   },
   "source": [
    "## 2. Assess Data\n",
    "***\n",
    "Data assets ([source](https://www.lyft.com/bikes/bay-wheels/system-data)):\n",
    "* Trip Duration (seconds)\n",
    "* Start Time and Date\n",
    "* End Time and Date\n",
    "* Start Station ID\n",
    "* Start Station Name\n",
    "* Start Station Latitude\n",
    "* Start Station Longitude\n",
    "* End Station ID\n",
    "* End Station Name\n",
    "* End Station Latitude\n",
    "* End Station Longitude\n",
    "* Bike ID\n",
    "* User Type (Subscriber or Customer – “Subscriber” = Member or “Customer” = Casual)"
   ]
  },
  {
   "cell_type": "markdown",
   "metadata": {},
   "source": [
    "### 2.1 High level exploration"
   ]
  },
  {
   "cell_type": "code",
   "execution_count": 5,
   "metadata": {
    "Collapsed": "false"
   },
   "outputs": [
    {
     "data": {
      "text/plain": [
       "(295854, 14)"
      ]
     },
     "execution_count": 5,
     "metadata": {},
     "output_type": "execute_result"
    }
   ],
   "source": [
    "df.shape"
   ]
  },
  {
   "cell_type": "code",
   "execution_count": 6,
   "metadata": {
    "Collapsed": "false"
   },
   "outputs": [
    {
     "name": "stdout",
     "output_type": "stream",
     "text": [
      "<class 'pandas.core.frame.DataFrame'>\n",
      "RangeIndex: 295854 entries, 0 to 295853\n",
      "Data columns (total 14 columns):\n",
      " #   Column                   Non-Null Count   Dtype  \n",
      "---  ------                   --------------   -----  \n",
      " 0   duration_sec             295854 non-null  int64  \n",
      " 1   start_time               295854 non-null  object \n",
      " 2   end_time                 295854 non-null  object \n",
      " 3   start_station_id         146286 non-null  float64\n",
      " 4   start_station_name       146866 non-null  object \n",
      " 5   start_station_latitude   295854 non-null  float64\n",
      " 6   start_station_longitude  295854 non-null  float64\n",
      " 7   end_station_id           145934 non-null  float64\n",
      " 8   end_station_name         146511 non-null  object \n",
      " 9   end_station_latitude     295854 non-null  float64\n",
      " 10  end_station_longitude    295854 non-null  float64\n",
      " 11  bike_id                  295854 non-null  int64  \n",
      " 12  user_type                295854 non-null  object \n",
      " 13  rental_access_method     185746 non-null  object \n",
      "dtypes: float64(6), int64(2), object(6)\n",
      "memory usage: 31.6+ MB\n"
     ]
    }
   ],
   "source": [
    "df.info()"
   ]
  },
  {
   "cell_type": "code",
   "execution_count": 7,
   "metadata": {
    "Collapsed": "false"
   },
   "outputs": [
    {
     "data": {
      "text/plain": [
       "0"
      ]
     },
     "execution_count": 7,
     "metadata": {},
     "output_type": "execute_result"
    }
   ],
   "source": [
    "df.duplicated().sum()"
   ]
  },
  {
   "cell_type": "code",
   "execution_count": 8,
   "metadata": {
    "Collapsed": "false"
   },
   "outputs": [
    {
     "data": {
      "text/plain": [
       "duration_sec                    0\n",
       "start_time                      0\n",
       "end_time                        0\n",
       "start_station_id           149568\n",
       "start_station_name         148988\n",
       "start_station_latitude          0\n",
       "start_station_longitude         0\n",
       "end_station_id             149920\n",
       "end_station_name           149343\n",
       "end_station_latitude            0\n",
       "end_station_longitude           0\n",
       "bike_id                         0\n",
       "user_type                       0\n",
       "rental_access_method       110108\n",
       "dtype: int64"
      ]
     },
     "execution_count": 8,
     "metadata": {},
     "output_type": "execute_result"
    }
   ],
   "source": [
    "df.isnull().sum()"
   ]
  },
  {
   "cell_type": "code",
   "execution_count": 9,
   "metadata": {
    "Collapsed": "false"
   },
   "outputs": [
    {
     "data": {
      "text/plain": [
       "duration_sec                 5574\n",
       "start_time                 282787\n",
       "end_time                   282613\n",
       "start_station_id              429\n",
       "start_station_name            430\n",
       "start_station_latitude     122218\n",
       "start_station_longitude    123962\n",
       "end_station_id                428\n",
       "end_station_name              429\n",
       "end_station_latitude       122941\n",
       "end_station_longitude      125091\n",
       "bike_id                      8016\n",
       "user_type                       2\n",
       "rental_access_method            2\n",
       "dtype: int64"
      ]
     },
     "execution_count": 9,
     "metadata": {},
     "output_type": "execute_result"
    }
   ],
   "source": [
    "df.nunique()"
   ]
  },
  {
   "cell_type": "markdown",
   "metadata": {
    "Collapsed": "false"
   },
   "source": [
    "#### 2.1.2 categorical values"
   ]
  },
  {
   "cell_type": "code",
   "execution_count": 10,
   "metadata": {
    "Collapsed": "false"
   },
   "outputs": [
    {
     "data": {
      "text/plain": [
       "Subscriber    170988\n",
       "Customer      124866\n",
       "Name: user_type, dtype: int64"
      ]
     },
     "execution_count": 10,
     "metadata": {},
     "output_type": "execute_result"
    }
   ],
   "source": [
    "df['user_type'].value_counts()"
   ]
  },
  {
   "cell_type": "code",
   "execution_count": 11,
   "metadata": {
    "Collapsed": "false"
   },
   "outputs": [
    {
     "data": {
      "text/plain": [
       "app        171751\n",
       "clipper     13995\n",
       "Name: rental_access_method, dtype: int64"
      ]
     },
     "execution_count": 11,
     "metadata": {},
     "output_type": "execute_result"
    }
   ],
   "source": [
    "df['rental_access_method'].value_counts()"
   ]
  },
  {
   "cell_type": "code",
   "execution_count": 12,
   "metadata": {
    "Collapsed": "false"
   },
   "outputs": [
    {
     "data": {
      "text/plain": [
       "30.0     5023\n",
       "21.0     2888\n",
       "81.0     2851\n",
       "15.0     2835\n",
       "58.0     2723\n",
       "         ... \n",
       "472.0       5\n",
       "234.0       5\n",
       "228.0       5\n",
       "421.0       3\n",
       "435.0       1\n",
       "Name: end_station_id, Length: 428, dtype: int64"
      ]
     },
     "execution_count": 12,
     "metadata": {},
     "output_type": "execute_result"
    }
   ],
   "source": [
    "df['end_station_id'].value_counts()"
   ]
  },
  {
   "cell_type": "code",
   "execution_count": 13,
   "metadata": {
    "Collapsed": "false"
   },
   "outputs": [
    {
     "data": {
      "text/plain": [
       "58.0     2753\n",
       "30.0     2734\n",
       "81.0     2638\n",
       "22.0     2076\n",
       "15.0     1998\n",
       "         ... \n",
       "421.0       4\n",
       "472.0       4\n",
       "506.0       4\n",
       "488.0       1\n",
       "329.0       1\n",
       "Name: start_station_id, Length: 429, dtype: int64"
      ]
     },
     "execution_count": 13,
     "metadata": {},
     "output_type": "execute_result"
    }
   ],
   "source": [
    "df['start_station_id'].value_counts()"
   ]
  },
  {
   "cell_type": "markdown",
   "metadata": {
    "Collapsed": "false"
   },
   "source": [
    "#### 2.1.2 ranges (numeric & dates)"
   ]
  },
  {
   "cell_type": "code",
   "execution_count": 14,
   "metadata": {
    "Collapsed": "false"
   },
   "outputs": [
    {
     "data": {
      "text/html": [
       "<div>\n",
       "<style scoped>\n",
       "    .dataframe tbody tr th:only-of-type {\n",
       "        vertical-align: middle;\n",
       "    }\n",
       "\n",
       "    .dataframe tbody tr th {\n",
       "        vertical-align: top;\n",
       "    }\n",
       "\n",
       "    .dataframe thead th {\n",
       "        text-align: right;\n",
       "    }\n",
       "</style>\n",
       "<table border=\"1\" class=\"dataframe\">\n",
       "  <thead>\n",
       "    <tr style=\"text-align: right;\">\n",
       "      <th></th>\n",
       "      <th>duration_sec</th>\n",
       "      <th>start_station_id</th>\n",
       "      <th>start_station_latitude</th>\n",
       "      <th>start_station_longitude</th>\n",
       "      <th>end_station_id</th>\n",
       "      <th>end_station_latitude</th>\n",
       "      <th>end_station_longitude</th>\n",
       "      <th>bike_id</th>\n",
       "    </tr>\n",
       "  </thead>\n",
       "  <tbody>\n",
       "    <tr>\n",
       "      <th>count</th>\n",
       "      <td>295854.000000</td>\n",
       "      <td>146286.000000</td>\n",
       "      <td>295854.000000</td>\n",
       "      <td>295854.000000</td>\n",
       "      <td>145934.000000</td>\n",
       "      <td>295854.000000</td>\n",
       "      <td>295854.000000</td>\n",
       "      <td>295854.00000</td>\n",
       "    </tr>\n",
       "    <tr>\n",
       "      <th>mean</th>\n",
       "      <td>780.473193</td>\n",
       "      <td>168.900879</td>\n",
       "      <td>37.751277</td>\n",
       "      <td>-122.357866</td>\n",
       "      <td>161.061788</td>\n",
       "      <td>37.751261</td>\n",
       "      <td>-122.356994</td>\n",
       "      <td>321533.84539</td>\n",
       "    </tr>\n",
       "    <tr>\n",
       "      <th>std</th>\n",
       "      <td>2037.786317</td>\n",
       "      <td>141.956388</td>\n",
       "      <td>0.228337</td>\n",
       "      <td>0.650796</td>\n",
       "      <td>140.766154</td>\n",
       "      <td>0.238642</td>\n",
       "      <td>0.688512</td>\n",
       "      <td>307015.31534</td>\n",
       "    </tr>\n",
       "    <tr>\n",
       "      <th>min</th>\n",
       "      <td>60.000000</td>\n",
       "      <td>3.000000</td>\n",
       "      <td>0.000000</td>\n",
       "      <td>-122.513871</td>\n",
       "      <td>3.000000</td>\n",
       "      <td>0.000000</td>\n",
       "      <td>-122.513847</td>\n",
       "      <td>12.00000</td>\n",
       "    </tr>\n",
       "    <tr>\n",
       "      <th>25%</th>\n",
       "      <td>369.000000</td>\n",
       "      <td>53.000000</td>\n",
       "      <td>37.766214</td>\n",
       "      <td>-122.419481</td>\n",
       "      <td>43.000000</td>\n",
       "      <td>37.766376</td>\n",
       "      <td>-122.418306</td>\n",
       "      <td>11328.00000</td>\n",
       "    </tr>\n",
       "    <tr>\n",
       "      <th>50%</th>\n",
       "      <td>588.000000</td>\n",
       "      <td>120.000000</td>\n",
       "      <td>37.777158</td>\n",
       "      <td>-122.403234</td>\n",
       "      <td>113.000000</td>\n",
       "      <td>37.777370</td>\n",
       "      <td>-122.402717</td>\n",
       "      <td>279974.00000</td>\n",
       "    </tr>\n",
       "    <tr>\n",
       "      <th>75%</th>\n",
       "      <td>912.000000</td>\n",
       "      <td>263.000000</td>\n",
       "      <td>37.790102</td>\n",
       "      <td>-122.392450</td>\n",
       "      <td>250.000000</td>\n",
       "      <td>37.790492</td>\n",
       "      <td>-122.392546</td>\n",
       "      <td>545607.00000</td>\n",
       "    </tr>\n",
       "    <tr>\n",
       "      <th>max</th>\n",
       "      <td>811077.000000</td>\n",
       "      <td>506.000000</td>\n",
       "      <td>37.880222</td>\n",
       "      <td>0.000000</td>\n",
       "      <td>506.000000</td>\n",
       "      <td>37.927622</td>\n",
       "      <td>0.000000</td>\n",
       "      <td>999952.00000</td>\n",
       "    </tr>\n",
       "  </tbody>\n",
       "</table>\n",
       "</div>"
      ],
      "text/plain": [
       "        duration_sec  start_station_id  start_station_latitude  \\\n",
       "count  295854.000000     146286.000000           295854.000000   \n",
       "mean      780.473193        168.900879               37.751277   \n",
       "std      2037.786317        141.956388                0.228337   \n",
       "min        60.000000          3.000000                0.000000   \n",
       "25%       369.000000         53.000000               37.766214   \n",
       "50%       588.000000        120.000000               37.777158   \n",
       "75%       912.000000        263.000000               37.790102   \n",
       "max    811077.000000        506.000000               37.880222   \n",
       "\n",
       "       start_station_longitude  end_station_id  end_station_latitude  \\\n",
       "count            295854.000000   145934.000000         295854.000000   \n",
       "mean               -122.357866      161.061788             37.751261   \n",
       "std                   0.650796      140.766154              0.238642   \n",
       "min                -122.513871        3.000000              0.000000   \n",
       "25%                -122.419481       43.000000             37.766376   \n",
       "50%                -122.403234      113.000000             37.777370   \n",
       "75%                -122.392450      250.000000             37.790492   \n",
       "max                   0.000000      506.000000             37.927622   \n",
       "\n",
       "       end_station_longitude       bike_id  \n",
       "count          295854.000000  295854.00000  \n",
       "mean             -122.356994  321533.84539  \n",
       "std                 0.688512  307015.31534  \n",
       "min              -122.513847      12.00000  \n",
       "25%              -122.418306   11328.00000  \n",
       "50%              -122.402717  279974.00000  \n",
       "75%              -122.392546  545607.00000  \n",
       "max                 0.000000  999952.00000  "
      ]
     },
     "execution_count": 14,
     "metadata": {},
     "output_type": "execute_result"
    }
   ],
   "source": [
    "df.describe()"
   ]
  },
  {
   "cell_type": "code",
   "execution_count": 15,
   "metadata": {
    "Collapsed": "false"
   },
   "outputs": [
    {
     "data": {
      "text/plain": [
       "('2020-01-01 00:05:19', '2020-01-31 23:59:48')"
      ]
     },
     "execution_count": 15,
     "metadata": {},
     "output_type": "execute_result"
    }
   ],
   "source": [
    "df.start_time.min(), df.start_time.max()"
   ]
  },
  {
   "cell_type": "code",
   "execution_count": 16,
   "metadata": {
    "Collapsed": "false"
   },
   "outputs": [
    {
     "data": {
      "text/plain": [
       "('2020-01-01 00:09:54', '2020-02-01 14:29:06.2630')"
      ]
     },
     "execution_count": 16,
     "metadata": {},
     "output_type": "execute_result"
    }
   ],
   "source": [
    "df.end_time.min(), df.end_time.max()"
   ]
  },
  {
   "cell_type": "markdown",
   "metadata": {
    "Collapsed": "false"
   },
   "source": [
    "### 2.2 notes on intial findings re. the data:\n",
    "***\n",
    "Points marked `R` will first be researched on a deeper level, points marker `C` are ready for cleaning in the next step.\n",
    "\n",
    "**Base trip data**\n",
    "* (R) - Maximum duration in seconds is high (811k seconds = 225 hours) - something to investigate further. \n",
    "* (C) - Start and End time need to be converted to timestamps\n",
    "* Note that our dataset spans the entire month of Jan-20\n",
    "* (C) - user_type should be converted to a categorical type\n",
    "* (C) - rental_access_method should be converted to categorical and change NULL to 'undefined'\n",
    "\n",
    "**Location data - discreet**\n",
    "* (C) - station_id's should be converted to integers\n",
    "* (R) - there is a discrepancy between unique station_id's (429) vs name (430) - we should investigate this further.          \n",
    "\n",
    "**Location data - continous**\n",
    "* (R) - format is correct for Lat's and Long's, however we don't expect '0' to be included - we should investigate this further.\n",
    "  \n",
    "\n"
   ]
  },
  {
   "cell_type": "markdown",
   "metadata": {
    "Collapsed": "false"
   },
   "source": [
    "#### 2.2.1 further research into `duration_sec`\n",
    "We should remove the duration of 811k seconds, this seems to be an error and only occurs once. Higest value below this is ~86k seconds (=1 day). Still high, but something to asses during EDA. "
   ]
  },
  {
   "cell_type": "code",
   "execution_count": 17,
   "metadata": {
    "Collapsed": "false"
   },
   "outputs": [
    {
     "data": {
      "text/plain": [
       "121168    811077\n",
       "49926      86221\n",
       "63677      85994\n",
       "27024      85450\n",
       "50984      85268\n",
       "           ...  \n",
       "202975        60\n",
       "294590        60\n",
       "196355        60\n",
       "168851        60\n",
       "232484        60\n",
       "Name: duration_sec, Length: 295854, dtype: int64"
      ]
     },
     "execution_count": 17,
     "metadata": {},
     "output_type": "execute_result"
    }
   ],
   "source": [
    "# look at the case where duration is 811k seconds\n",
    "df['duration_sec'].sort_values(ascending=False)"
   ]
  },
  {
   "cell_type": "code",
   "execution_count": 18,
   "metadata": {
    "Collapsed": "false"
   },
   "outputs": [
    {
     "data": {
      "text/plain": [
       "duration_sec                            811077\n",
       "start_time                 2020-01-09 16:23:21\n",
       "end_time                   2020-01-19 01:41:19\n",
       "start_station_id                           NaN\n",
       "start_station_name                         NaN\n",
       "start_station_latitude                  37.336\n",
       "start_station_longitude                 -121.9\n",
       "end_station_id                             NaN\n",
       "end_station_name                           NaN\n",
       "end_station_latitude                   37.3365\n",
       "end_station_longitude                 -121.901\n",
       "bike_id                                 231296\n",
       "user_type                           Subscriber\n",
       "rental_access_method                   clipper\n",
       "Name: 121168, dtype: object"
      ]
     },
     "execution_count": 18,
     "metadata": {},
     "output_type": "execute_result"
    }
   ],
   "source": [
    "df.loc[121168]"
   ]
  },
  {
   "cell_type": "markdown",
   "metadata": {
    "Collapsed": "false"
   },
   "source": [
    "#### 2.2.2 further research into `station_id` and `station_name`\n",
    "It seems the ID for `Steuart St at Market St` is missing, affecting 1155 rows. We will not adjust this, we do make a note that for any grouping by station we best use name or ignore this station."
   ]
  },
  {
   "cell_type": "code",
   "execution_count": 19,
   "metadata": {
    "Collapsed": "false"
   },
   "outputs": [
    {
     "data": {
      "text/html": [
       "<div>\n",
       "<style scoped>\n",
       "    .dataframe tbody tr th:only-of-type {\n",
       "        vertical-align: middle;\n",
       "    }\n",
       "\n",
       "    .dataframe tbody tr th {\n",
       "        vertical-align: top;\n",
       "    }\n",
       "\n",
       "    .dataframe thead th {\n",
       "        text-align: right;\n",
       "    }\n",
       "</style>\n",
       "<table border=\"1\" class=\"dataframe\">\n",
       "  <thead>\n",
       "    <tr style=\"text-align: right;\">\n",
       "      <th></th>\n",
       "      <th>start_station_name</th>\n",
       "      <th>start_station_id</th>\n",
       "    </tr>\n",
       "  </thead>\n",
       "  <tbody>\n",
       "    <tr>\n",
       "      <th>191</th>\n",
       "      <td>Frida Kahlo Way at Cloud Cir</td>\n",
       "      <td>498.0</td>\n",
       "    </tr>\n",
       "    <tr>\n",
       "      <th>306</th>\n",
       "      <td>Otis St at Brady St</td>\n",
       "      <td>499.0</td>\n",
       "    </tr>\n",
       "    <tr>\n",
       "      <th>103</th>\n",
       "      <td>Battery St at Filbert St</td>\n",
       "      <td>500.0</td>\n",
       "    </tr>\n",
       "    <tr>\n",
       "      <th>77</th>\n",
       "      <td>7th Ave at Clement St</td>\n",
       "      <td>506.0</td>\n",
       "    </tr>\n",
       "    <tr>\n",
       "      <th>376</th>\n",
       "      <td>Steuart St at Market St</td>\n",
       "      <td>NaN</td>\n",
       "    </tr>\n",
       "  </tbody>\n",
       "</table>\n",
       "</div>"
      ],
      "text/plain": [
       "               start_station_name  start_station_id\n",
       "191  Frida Kahlo Way at Cloud Cir             498.0\n",
       "306           Otis St at Brady St             499.0\n",
       "103      Battery St at Filbert St             500.0\n",
       "77          7th Ave at Clement St             506.0\n",
       "376       Steuart St at Market St               NaN"
      ]
     },
     "execution_count": 19,
     "metadata": {},
     "output_type": "execute_result"
    }
   ],
   "source": [
    "# descrepancy between ID and name for stations\n",
    "df.groupby('start_station_name')['start_station_id'].max().reset_index().sort_values('start_station_id').tail()\n"
   ]
  },
  {
   "cell_type": "code",
   "execution_count": 20,
   "metadata": {
    "Collapsed": "false"
   },
   "outputs": [
    {
     "data": {
      "text/html": [
       "<div>\n",
       "<style scoped>\n",
       "    .dataframe tbody tr th:only-of-type {\n",
       "        vertical-align: middle;\n",
       "    }\n",
       "\n",
       "    .dataframe tbody tr th {\n",
       "        vertical-align: top;\n",
       "    }\n",
       "\n",
       "    .dataframe thead th {\n",
       "        text-align: right;\n",
       "    }\n",
       "</style>\n",
       "<table border=\"1\" class=\"dataframe\">\n",
       "  <thead>\n",
       "    <tr style=\"text-align: right;\">\n",
       "      <th></th>\n",
       "      <th>end_station_name</th>\n",
       "      <th>end_station_id</th>\n",
       "    </tr>\n",
       "  </thead>\n",
       "  <tbody>\n",
       "    <tr>\n",
       "      <th>191</th>\n",
       "      <td>Frida Kahlo Way at Cloud Cir</td>\n",
       "      <td>498.0</td>\n",
       "    </tr>\n",
       "    <tr>\n",
       "      <th>306</th>\n",
       "      <td>Otis St at Brady St</td>\n",
       "      <td>499.0</td>\n",
       "    </tr>\n",
       "    <tr>\n",
       "      <th>103</th>\n",
       "      <td>Battery St at Filbert St</td>\n",
       "      <td>500.0</td>\n",
       "    </tr>\n",
       "    <tr>\n",
       "      <th>77</th>\n",
       "      <td>7th Ave at Clement St</td>\n",
       "      <td>506.0</td>\n",
       "    </tr>\n",
       "    <tr>\n",
       "      <th>375</th>\n",
       "      <td>Steuart St at Market St</td>\n",
       "      <td>NaN</td>\n",
       "    </tr>\n",
       "  </tbody>\n",
       "</table>\n",
       "</div>"
      ],
      "text/plain": [
       "                 end_station_name  end_station_id\n",
       "191  Frida Kahlo Way at Cloud Cir           498.0\n",
       "306           Otis St at Brady St           499.0\n",
       "103      Battery St at Filbert St           500.0\n",
       "77          7th Ave at Clement St           506.0\n",
       "375       Steuart St at Market St             NaN"
      ]
     },
     "execution_count": 20,
     "metadata": {},
     "output_type": "execute_result"
    }
   ],
   "source": [
    "df.groupby('end_station_name')['end_station_id'].max().reset_index().sort_values('end_station_id').tail()\n"
   ]
  },
  {
   "cell_type": "code",
   "execution_count": 21,
   "metadata": {
    "Collapsed": "false"
   },
   "outputs": [
    {
     "data": {
      "text/plain": [
       "(1155, 14)"
      ]
     },
     "execution_count": 21,
     "metadata": {},
     "output_type": "execute_result"
    }
   ],
   "source": [
    "df[(df['start_station_name'] == 'Steuart St at Market St') | (df['end_station_name'] == 'Steuart St at Market St')].shape"
   ]
  },
  {
   "cell_type": "markdown",
   "metadata": {
    "Collapsed": "false"
   },
   "source": [
    "#### 2.2.3 further research into `latitude` and `longitude`\n",
    "Only a few rows have '0,0' as value here (8 for start_station, 9 for end_station) and these should be removed. Other location seems to be in reasonable values."
   ]
  },
  {
   "cell_type": "code",
   "execution_count": 22,
   "metadata": {
    "Collapsed": "false"
   },
   "outputs": [
    {
     "data": {
      "text/html": [
       "<div>\n",
       "<style scoped>\n",
       "    .dataframe tbody tr th:only-of-type {\n",
       "        vertical-align: middle;\n",
       "    }\n",
       "\n",
       "    .dataframe tbody tr th {\n",
       "        vertical-align: top;\n",
       "    }\n",
       "\n",
       "    .dataframe thead th {\n",
       "        text-align: right;\n",
       "    }\n",
       "</style>\n",
       "<table border=\"1\" class=\"dataframe\">\n",
       "  <thead>\n",
       "    <tr style=\"text-align: right;\">\n",
       "      <th></th>\n",
       "      <th>start_station_longitude</th>\n",
       "      <th>0</th>\n",
       "    </tr>\n",
       "  </thead>\n",
       "  <tbody>\n",
       "    <tr>\n",
       "      <th>123961</th>\n",
       "      <td>0.000000</td>\n",
       "      <td>8</td>\n",
       "    </tr>\n",
       "    <tr>\n",
       "      <th>123960</th>\n",
       "      <td>-121.809475</td>\n",
       "      <td>1</td>\n",
       "    </tr>\n",
       "  </tbody>\n",
       "</table>\n",
       "</div>"
      ],
      "text/plain": [
       "        start_station_longitude  0\n",
       "123961                 0.000000  8\n",
       "123960              -121.809475  1"
      ]
     },
     "execution_count": 22,
     "metadata": {},
     "output_type": "execute_result"
    }
   ],
   "source": [
    "## lat and long\n",
    "df.groupby('start_station_longitude').size().reset_index().sort_values('start_station_longitude', ascending=False).head(2)"
   ]
  },
  {
   "cell_type": "code",
   "execution_count": 23,
   "metadata": {
    "Collapsed": "false"
   },
   "outputs": [
    {
     "data": {
      "text/html": [
       "<div>\n",
       "<style scoped>\n",
       "    .dataframe tbody tr th:only-of-type {\n",
       "        vertical-align: middle;\n",
       "    }\n",
       "\n",
       "    .dataframe tbody tr th {\n",
       "        vertical-align: top;\n",
       "    }\n",
       "\n",
       "    .dataframe thead th {\n",
       "        text-align: right;\n",
       "    }\n",
       "</style>\n",
       "<table border=\"1\" class=\"dataframe\">\n",
       "  <thead>\n",
       "    <tr style=\"text-align: right;\">\n",
       "      <th></th>\n",
       "      <th>start_station_latitude</th>\n",
       "      <th>0</th>\n",
       "    </tr>\n",
       "  </thead>\n",
       "  <tbody>\n",
       "    <tr>\n",
       "      <th>0</th>\n",
       "      <td>0.000000</td>\n",
       "      <td>8</td>\n",
       "    </tr>\n",
       "    <tr>\n",
       "      <th>1</th>\n",
       "      <td>37.275291</td>\n",
       "      <td>1</td>\n",
       "    </tr>\n",
       "  </tbody>\n",
       "</table>\n",
       "</div>"
      ],
      "text/plain": [
       "   start_station_latitude  0\n",
       "0                0.000000  8\n",
       "1               37.275291  1"
      ]
     },
     "execution_count": 23,
     "metadata": {},
     "output_type": "execute_result"
    }
   ],
   "source": [
    "df.groupby('start_station_latitude').size().reset_index().sort_values('start_station_latitude', ascending=True).head(2)"
   ]
  },
  {
   "cell_type": "code",
   "execution_count": 24,
   "metadata": {
    "Collapsed": "false"
   },
   "outputs": [
    {
     "data": {
      "text/html": [
       "<div>\n",
       "<style scoped>\n",
       "    .dataframe tbody tr th:only-of-type {\n",
       "        vertical-align: middle;\n",
       "    }\n",
       "\n",
       "    .dataframe tbody tr th {\n",
       "        vertical-align: top;\n",
       "    }\n",
       "\n",
       "    .dataframe thead th {\n",
       "        text-align: right;\n",
       "    }\n",
       "</style>\n",
       "<table border=\"1\" class=\"dataframe\">\n",
       "  <thead>\n",
       "    <tr style=\"text-align: right;\">\n",
       "      <th></th>\n",
       "      <th>end_station_longitude</th>\n",
       "      <th>0</th>\n",
       "    </tr>\n",
       "  </thead>\n",
       "  <tbody>\n",
       "    <tr>\n",
       "      <th>125090</th>\n",
       "      <td>0.000000</td>\n",
       "      <td>9</td>\n",
       "    </tr>\n",
       "    <tr>\n",
       "      <th>125089</th>\n",
       "      <td>-121.772722</td>\n",
       "      <td>1</td>\n",
       "    </tr>\n",
       "  </tbody>\n",
       "</table>\n",
       "</div>"
      ],
      "text/plain": [
       "        end_station_longitude  0\n",
       "125090               0.000000  9\n",
       "125089            -121.772722  1"
      ]
     },
     "execution_count": 24,
     "metadata": {},
     "output_type": "execute_result"
    }
   ],
   "source": [
    "df.groupby('end_station_longitude').size().reset_index().sort_values('end_station_longitude', ascending=False).head(2)"
   ]
  },
  {
   "cell_type": "code",
   "execution_count": 25,
   "metadata": {
    "Collapsed": "false"
   },
   "outputs": [
    {
     "data": {
      "text/html": [
       "<div>\n",
       "<style scoped>\n",
       "    .dataframe tbody tr th:only-of-type {\n",
       "        vertical-align: middle;\n",
       "    }\n",
       "\n",
       "    .dataframe tbody tr th {\n",
       "        vertical-align: top;\n",
       "    }\n",
       "\n",
       "    .dataframe thead th {\n",
       "        text-align: right;\n",
       "    }\n",
       "</style>\n",
       "<table border=\"1\" class=\"dataframe\">\n",
       "  <thead>\n",
       "    <tr style=\"text-align: right;\">\n",
       "      <th></th>\n",
       "      <th>end_station_latitude</th>\n",
       "      <th>0</th>\n",
       "    </tr>\n",
       "  </thead>\n",
       "  <tbody>\n",
       "    <tr>\n",
       "      <th>0</th>\n",
       "      <td>0.000000</td>\n",
       "      <td>9</td>\n",
       "    </tr>\n",
       "    <tr>\n",
       "      <th>1</th>\n",
       "      <td>37.258978</td>\n",
       "      <td>1</td>\n",
       "    </tr>\n",
       "  </tbody>\n",
       "</table>\n",
       "</div>"
      ],
      "text/plain": [
       "   end_station_latitude  0\n",
       "0              0.000000  9\n",
       "1             37.258978  1"
      ]
     },
     "execution_count": 25,
     "metadata": {},
     "output_type": "execute_result"
    }
   ],
   "source": [
    "df.groupby('end_station_latitude').size().reset_index().sort_values('end_station_latitude', ascending=True).head(2)"
   ]
  },
  {
   "cell_type": "markdown",
   "metadata": {
    "Collapsed": "false"
   },
   "source": [
    "### 2.3 Final Assessment notes\n",
    "***\n",
    "Issues to address:\n",
    "1. Remove record with `duration_sec` 811077 (index=121168)\n",
    "2. Convert `start_time` and `end_time` to datetime format.\n",
    "3. Convert `start_station_id` to integer\n",
    "4. Remove records where `start_station_latitude` and/or `start_station_longitude` is null (8 in total)\n",
    "5. Convert `end_station_id` to integer \n",
    "6. Remove records where `end_station_latitude` and/or `end_station_longitude` is null (9 in total)\n",
    "7. Convert `user_type` to a categorical\n",
    "8. Convert `rental_access_method` to a categorical, where `nan` is changed to `undefined`\n",
    "\n",
    "Notes:\n",
    "* To group by station, we should use the `name` fields, as the id for `Steuart St at Market St` is missing.\n",
    "* Our dataset spans the entire month of Jan-2020\n",
    "* Locations seems to be in the US (expected since data is from LYFT)"
   ]
  },
  {
   "cell_type": "markdown",
   "metadata": {
    "Collapsed": "false"
   },
   "source": [
    "## 3. Clean Data\n",
    "***\n",
    "Addressing the issues mentioned above in order. Each time, following the plan-code-test structure."
   ]
  },
  {
   "cell_type": "code",
   "execution_count": 26,
   "metadata": {
    "Collapsed": "false"
   },
   "outputs": [
    {
     "name": "stdout",
     "output_type": "stream",
     "text": [
      "(295854, 14)\n"
     ]
    }
   ],
   "source": [
    "# copy dataset before starting\n",
    "df_clean = df.copy()\n",
    "print(df_clean.shape)"
   ]
  },
  {
   "cell_type": "markdown",
   "metadata": {
    "Collapsed": "false"
   },
   "source": [
    "#### 3.1 Remove record with `duration_sec` 811077 (index=121168)\n",
    "Longer than 24h rent results in a fine regardless."
   ]
  },
  {
   "cell_type": "code",
   "execution_count": 27,
   "metadata": {
    "Collapsed": "false"
   },
   "outputs": [],
   "source": [
    "# only keep rows where duration_sec < 100,000\n",
    "df_clean = df_clean[df_clean['duration_sec'] < 100000].reset_index(drop=True)"
   ]
  },
  {
   "cell_type": "code",
   "execution_count": 28,
   "metadata": {
    "Collapsed": "false"
   },
   "outputs": [
    {
     "name": "stdout",
     "output_type": "stream",
     "text": [
      "(295853, 14)\n"
     ]
    }
   ],
   "source": [
    "assert len(df_clean[df_clean['duration_sec'] > 100000])==0\n",
    "print(df_clean.shape)"
   ]
  },
  {
   "cell_type": "markdown",
   "metadata": {
    "Collapsed": "false"
   },
   "source": [
    "#### 3.2 Convert `start_time` and `end_time` to datetime format."
   ]
  },
  {
   "cell_type": "code",
   "execution_count": 29,
   "metadata": {
    "Collapsed": "false"
   },
   "outputs": [
    {
     "data": {
      "text/plain": [
       "0        2020-01-31 15:23:47.733\n",
       "1        2020-01-31 15:40:31.616\n",
       "2        2020-01-31 17:48:16.635\n",
       "3        2020-01-31 17:53:03.413\n",
       "4        2020-01-31 17:12:33.460\n",
       "                   ...          \n",
       "295848   2020-01-26 16:18:12.000\n",
       "295849   2020-01-06 12:40:12.000\n",
       "295850   2020-01-09 13:56:54.000\n",
       "295851   2020-01-30 23:08:59.000\n",
       "295852   2020-01-04 15:11:49.000\n",
       "Name: start_time, Length: 295853, dtype: datetime64[ns]"
      ]
     },
     "execution_count": 29,
     "metadata": {},
     "output_type": "execute_result"
    }
   ],
   "source": [
    "# start_time (check reveals: dtype: datetime64[ns])\n",
    "df_clean['start_time'] = pd.to_datetime(df_clean['start_time'])\n",
    "df_clean['start_time']"
   ]
  },
  {
   "cell_type": "code",
   "execution_count": 30,
   "metadata": {
    "Collapsed": "false"
   },
   "outputs": [
    {
     "data": {
      "text/plain": [
       "0        2020-02-01 14:29:06.263\n",
       "1        2020-02-01 10:37:51.000\n",
       "2        2020-02-01 09:11:44.317\n",
       "3        2020-02-01 09:08:32.634\n",
       "4        2020-02-01 08:40:53.646\n",
       "                   ...          \n",
       "295848   2020-01-26 16:33:02.000\n",
       "295849   2020-01-06 13:02:20.000\n",
       "295850   2020-01-09 17:25:44.000\n",
       "295851   2020-01-30 23:37:54.000\n",
       "295852   2020-01-04 16:59:47.000\n",
       "Name: end_time, Length: 295853, dtype: datetime64[ns]"
      ]
     },
     "execution_count": 30,
     "metadata": {},
     "output_type": "execute_result"
    }
   ],
   "source": [
    "# start_time (check reveals: dtype: datetime64[ns])\n",
    "df_clean['end_time'] = pd.to_datetime(df_clean['end_time'])\n",
    "df_clean['end_time']"
   ]
  },
  {
   "cell_type": "markdown",
   "metadata": {
    "Collapsed": "false"
   },
   "source": [
    "#### 3.3 Convert `start_station_id` to integer\n"
   ]
  },
  {
   "cell_type": "code",
   "execution_count": 31,
   "metadata": {
    "Collapsed": "false"
   },
   "outputs": [],
   "source": [
    "# set 'nan' to '-1' to allow integer conversion\n",
    "df_clean['start_station_id'] = df_clean['start_station_id'].fillna('-1')\n",
    "df_clean['start_station_id'] = df_clean['start_station_id'].astype('int')"
   ]
  },
  {
   "cell_type": "code",
   "execution_count": 32,
   "metadata": {
    "Collapsed": "false"
   },
   "outputs": [
    {
     "data": {
      "text/plain": [
       "0         400\n",
       "1          99\n",
       "2         197\n",
       "3         197\n",
       "4          12\n",
       "         ... \n",
       "295848     -1\n",
       "295849     -1\n",
       "295850     -1\n",
       "295851     -1\n",
       "295852     -1\n",
       "Name: start_station_id, Length: 295853, dtype: int64"
      ]
     },
     "execution_count": 32,
     "metadata": {},
     "output_type": "execute_result"
    }
   ],
   "source": [
    "# visual check\n",
    "df_clean['start_station_id']"
   ]
  },
  {
   "cell_type": "markdown",
   "metadata": {
    "Collapsed": "false"
   },
   "source": [
    "#### 3.4 Remove records where `start_station_latitude` and/or `start_station_longitude` is null (8 in total)\n"
   ]
  },
  {
   "cell_type": "code",
   "execution_count": 33,
   "metadata": {
    "Collapsed": "false"
   },
   "outputs": [
    {
     "data": {
      "text/plain": [
       "(295853, 14)"
      ]
     },
     "execution_count": 33,
     "metadata": {},
     "output_type": "execute_result"
    }
   ],
   "source": [
    "# before\n",
    "df_clean.shape"
   ]
  },
  {
   "cell_type": "code",
   "execution_count": 34,
   "metadata": {
    "Collapsed": "false"
   },
   "outputs": [],
   "source": [
    "# only select rows where lat/lon is not 0\n",
    "df_clean = df_clean[(df_clean['start_station_latitude'] > 0)  | (df_clean['start_station_longitude'] < 0)]"
   ]
  },
  {
   "cell_type": "code",
   "execution_count": 35,
   "metadata": {
    "Collapsed": "false"
   },
   "outputs": [
    {
     "name": "stdout",
     "output_type": "stream",
     "text": [
      "(295845, 14)\n"
     ]
    }
   ],
   "source": [
    "# test\n",
    "assert len(df_clean[(df_clean['start_station_latitude'] == 0)  | (df_clean['start_station_longitude'] == 0)])==0\n",
    "print(df_clean.shape)"
   ]
  },
  {
   "cell_type": "markdown",
   "metadata": {
    "Collapsed": "false"
   },
   "source": [
    "#### 3.5 Convert `end_station_id` to integer \n"
   ]
  },
  {
   "cell_type": "code",
   "execution_count": 36,
   "metadata": {
    "Collapsed": "false"
   },
   "outputs": [],
   "source": [
    "# set 'nan' to '-1' to allow integer conversion\n",
    "df_clean['end_station_id'] = df_clean['end_station_id'].fillna('-1')\n",
    "df_clean['end_station_id'] = df_clean['end_station_id'].astype('int')"
   ]
  },
  {
   "cell_type": "code",
   "execution_count": 37,
   "metadata": {
    "Collapsed": "false"
   },
   "outputs": [
    {
     "data": {
      "text/plain": [
       "0         400\n",
       "1          99\n",
       "2         197\n",
       "3         197\n",
       "4         371\n",
       "         ... \n",
       "295848     -1\n",
       "295849     -1\n",
       "295850    468\n",
       "295851     -1\n",
       "295852     -1\n",
       "Name: end_station_id, Length: 295845, dtype: int64"
      ]
     },
     "execution_count": 37,
     "metadata": {},
     "output_type": "execute_result"
    }
   ],
   "source": [
    "# visual check\n",
    "df_clean['end_station_id']"
   ]
  },
  {
   "cell_type": "markdown",
   "metadata": {
    "Collapsed": "false"
   },
   "source": [
    "#### 3.6 Remove records where `end_station_latitude` and/or `end_station_longitude` is null (9 in total)\n"
   ]
  },
  {
   "cell_type": "code",
   "execution_count": 38,
   "metadata": {
    "Collapsed": "false"
   },
   "outputs": [
    {
     "data": {
      "text/plain": [
       "(295845, 14)"
      ]
     },
     "execution_count": 38,
     "metadata": {},
     "output_type": "execute_result"
    }
   ],
   "source": [
    "#before\n",
    "df_clean.shape"
   ]
  },
  {
   "cell_type": "code",
   "execution_count": 39,
   "metadata": {
    "Collapsed": "false"
   },
   "outputs": [],
   "source": [
    "# only select rows where lat/lon is not 0\n",
    "df_clean = df_clean[(df_clean['end_station_latitude'] > 0)  | (df_clean['end_station_longitude'] < 0)]"
   ]
  },
  {
   "cell_type": "code",
   "execution_count": 40,
   "metadata": {
    "Collapsed": "false"
   },
   "outputs": [
    {
     "name": "stdout",
     "output_type": "stream",
     "text": [
      "(295836, 14)\n"
     ]
    }
   ],
   "source": [
    "# test\n",
    "assert len(df_clean[(df_clean['end_station_latitude'] == 0)  | (df_clean['end_station_longitude'] == 0)])==0\n",
    "print(df_clean.shape)"
   ]
  },
  {
   "cell_type": "markdown",
   "metadata": {
    "Collapsed": "false"
   },
   "source": [
    "#### 3.7 Convert `user_type` to a categorical\n"
   ]
  },
  {
   "cell_type": "code",
   "execution_count": 41,
   "metadata": {
    "Collapsed": "false"
   },
   "outputs": [
    {
     "data": {
      "text/plain": [
       "Subscriber    170978\n",
       "Customer      124858\n",
       "Name: user_type, dtype: int64"
      ]
     },
     "execution_count": 41,
     "metadata": {},
     "output_type": "execute_result"
    }
   ],
   "source": [
    "df_clean['user_type'].value_counts()"
   ]
  },
  {
   "cell_type": "code",
   "execution_count": 42,
   "metadata": {
    "Collapsed": "false"
   },
   "outputs": [
    {
     "data": {
      "text/plain": [
       "0           Customer\n",
       "1         Subscriber\n",
       "2           Customer\n",
       "3           Customer\n",
       "4           Customer\n",
       "             ...    \n",
       "295848      Customer\n",
       "295849    Subscriber\n",
       "295850    Subscriber\n",
       "295851    Subscriber\n",
       "295852      Customer\n",
       "Name: user_type, Length: 295836, dtype: category\n",
       "Categories (2, object): [Customer, Subscriber]"
      ]
     },
     "execution_count": 42,
     "metadata": {},
     "output_type": "execute_result"
    }
   ],
   "source": [
    "# convert\n",
    "df_clean['user_type'] = df_clean['user_type'].astype('category')\n",
    "\n",
    "# visual check\n",
    "df_clean['user_type']"
   ]
  },
  {
   "cell_type": "markdown",
   "metadata": {
    "Collapsed": "false"
   },
   "source": [
    "#### 3.8 Convert `rental_access_method` to a categorical, where `nan` is changed to `undefined`\n"
   ]
  },
  {
   "cell_type": "code",
   "execution_count": 43,
   "metadata": {
    "Collapsed": "false"
   },
   "outputs": [
    {
     "data": {
      "text/plain": [
       "app        171743\n",
       "clipper     13993\n",
       "Name: rental_access_method, dtype: int64"
      ]
     },
     "execution_count": 43,
     "metadata": {},
     "output_type": "execute_result"
    }
   ],
   "source": [
    "# get categories\n",
    "df_clean['rental_access_method'].value_counts()"
   ]
  },
  {
   "cell_type": "code",
   "execution_count": 44,
   "metadata": {
    "Collapsed": "false"
   },
   "outputs": [
    {
     "data": {
      "text/plain": [
       "110100"
      ]
     },
     "execution_count": 44,
     "metadata": {},
     "output_type": "execute_result"
    }
   ],
   "source": [
    "# undefined category\n",
    "df_clean['rental_access_method'].isnull().sum()"
   ]
  },
  {
   "cell_type": "code",
   "execution_count": 45,
   "metadata": {
    "Collapsed": "false"
   },
   "outputs": [],
   "source": [
    "# add undefined category\n",
    "df_clean['rental_access_method'].replace(np.nan, 'undefined', inplace=True)"
   ]
  },
  {
   "cell_type": "code",
   "execution_count": 46,
   "metadata": {
    "Collapsed": "false"
   },
   "outputs": [
    {
     "data": {
      "text/plain": [
       "0         undefined\n",
       "1         undefined\n",
       "2         undefined\n",
       "3         undefined\n",
       "4         undefined\n",
       "            ...    \n",
       "295848          app\n",
       "295849          app\n",
       "295850          app\n",
       "295851          app\n",
       "295852          app\n",
       "Name: rental_access_method, Length: 295836, dtype: category\n",
       "Categories (3, object): [app, clipper, undefined]"
      ]
     },
     "execution_count": 46,
     "metadata": {},
     "output_type": "execute_result"
    }
   ],
   "source": [
    "# convert\n",
    "df_clean['rental_access_method'] = df_clean['rental_access_method'].astype('category')\n",
    "\n",
    "# visual check\n",
    "df_clean['rental_access_method']"
   ]
  },
  {
   "cell_type": "code",
   "execution_count": 47,
   "metadata": {
    "Collapsed": "false"
   },
   "outputs": [
    {
     "data": {
      "text/plain": [
       "app          171743\n",
       "undefined    110100\n",
       "clipper       13993\n",
       "Name: rental_access_method, dtype: int64"
      ]
     },
     "execution_count": 47,
     "metadata": {},
     "output_type": "execute_result"
    }
   ],
   "source": [
    "# get categories - check\n",
    "df_clean['rental_access_method'].value_counts()"
   ]
  },
  {
   "cell_type": "markdown",
   "metadata": {
    "Collapsed": "false"
   },
   "source": [
    "#### 3.9 Overal check data-types\n",
    "***"
   ]
  },
  {
   "cell_type": "code",
   "execution_count": 48,
   "metadata": {
    "Collapsed": "false"
   },
   "outputs": [
    {
     "name": "stdout",
     "output_type": "stream",
     "text": [
      "<class 'pandas.core.frame.DataFrame'>\n",
      "Int64Index: 295836 entries, 0 to 295852\n",
      "Data columns (total 14 columns):\n",
      " #   Column                   Non-Null Count   Dtype         \n",
      "---  ------                   --------------   -----         \n",
      " 0   duration_sec             295836 non-null  int64         \n",
      " 1   start_time               295836 non-null  datetime64[ns]\n",
      " 2   end_time                 295836 non-null  datetime64[ns]\n",
      " 3   start_station_id         295836 non-null  int64         \n",
      " 4   start_station_name       146850 non-null  object        \n",
      " 5   start_station_latitude   295836 non-null  float64       \n",
      " 6   start_station_longitude  295836 non-null  float64       \n",
      " 7   end_station_id           295836 non-null  int64         \n",
      " 8   end_station_name         146502 non-null  object        \n",
      " 9   end_station_latitude     295836 non-null  float64       \n",
      " 10  end_station_longitude    295836 non-null  float64       \n",
      " 11  bike_id                  295836 non-null  int64         \n",
      " 12  user_type                295836 non-null  category      \n",
      " 13  rental_access_method     295836 non-null  category      \n",
      "dtypes: category(2), datetime64[ns](2), float64(4), int64(4), object(2)\n",
      "memory usage: 29.9+ MB\n"
     ]
    }
   ],
   "source": [
    "df_clean.info()"
   ]
  },
  {
   "cell_type": "markdown",
   "metadata": {
    "Collapsed": "false"
   },
   "source": [
    "## 4. store cleaned data\n",
    "***\n",
    "We store the cleaned data in as hdf file to keep the formatting (categories, datetime) intact."
   ]
  },
  {
   "cell_type": "markdown",
   "metadata": {},
   "source": [
    "#### 4.1 store data"
   ]
  },
  {
   "cell_type": "code",
   "execution_count": 51,
   "metadata": {
    "Collapsed": "false"
   },
   "outputs": [],
   "source": [
    "# store as hdf\n",
    "path = 'data/202001-tripdata-cleaned.h5'\n",
    "df_clean.to_hdf(path, key='bay_wheels', format='table', mode='w')\n"
   ]
  },
  {
   "cell_type": "code",
   "execution_count": 52,
   "metadata": {},
   "outputs": [
    {
     "name": "stdout",
     "output_type": "stream",
     "text": [
      "<class 'pandas.core.frame.DataFrame'>\n",
      "Int64Index: 295836 entries, 0 to 295852\n",
      "Data columns (total 14 columns):\n",
      " #   Column                   Non-Null Count   Dtype         \n",
      "---  ------                   --------------   -----         \n",
      " 0   duration_sec             295836 non-null  int64         \n",
      " 1   start_time               295836 non-null  datetime64[ns]\n",
      " 2   end_time                 295836 non-null  datetime64[ns]\n",
      " 3   start_station_id         295836 non-null  int64         \n",
      " 4   start_station_name       146850 non-null  object        \n",
      " 5   start_station_latitude   295836 non-null  float64       \n",
      " 6   start_station_longitude  295836 non-null  float64       \n",
      " 7   end_station_id           295836 non-null  int64         \n",
      " 8   end_station_name         146502 non-null  object        \n",
      " 9   end_station_latitude     295836 non-null  float64       \n",
      " 10  end_station_longitude    295836 non-null  float64       \n",
      " 11  bike_id                  295836 non-null  int64         \n",
      " 12  user_type                295836 non-null  category      \n",
      " 13  rental_access_method     295836 non-null  category      \n",
      "dtypes: category(2), datetime64[ns](2), float64(4), int64(4), object(2)\n",
      "memory usage: 29.9+ MB\n"
     ]
    }
   ],
   "source": [
    "df_check = pd.read_hdf(path)\n",
    "df_check.info()"
   ]
  },
  {
   "cell_type": "markdown",
   "metadata": {},
   "source": [
    "#### 4.2 outlook\n",
    "The process outlined in this notebook can easily be repeated for data from other months. The first few times, we should carefully observe if we can see any issues that we didn't see in this file, but once we are confident we have a stable method of procedssing, we can create a single function to do the processing to act on the data of each new month. "
   ]
  },
  {
   "cell_type": "code",
   "execution_count": null,
   "metadata": {},
   "outputs": [],
   "source": []
  }
 ],
 "metadata": {
  "kernelspec": {
   "display_name": "Python 3",
   "language": "python",
   "name": "python3"
  },
  "language_info": {
   "codemirror_mode": {
    "name": "ipython",
    "version": 3
   },
   "file_extension": ".py",
   "mimetype": "text/x-python",
   "name": "python",
   "nbconvert_exporter": "python",
   "pygments_lexer": "ipython3",
   "version": "3.7.3"
  }
 },
 "nbformat": 4,
 "nbformat_minor": 4
}
